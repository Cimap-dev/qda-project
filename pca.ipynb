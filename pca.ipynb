{
 "cells": [
  {
   "cell_type": "code",
   "execution_count": 2,
   "id": "e9a87be9",
   "metadata": {},
   "outputs": [],
   "source": [
    "import numpy as np\n",
    "import matplotlib.pyplot as plt\n",
    "import pandas as pd"
   ]
  },
  {
   "cell_type": "code",
   "execution_count": null,
   "id": "efcac228",
   "metadata": {},
   "outputs": [
    {
     "data": {
      "application/vnd.microsoft.datawrangler.viewer.v0+json": {
       "columns": [
        {
         "name": "index",
         "rawType": "int64",
         "type": "integer"
        },
        {
         "name": "t",
         "rawType": "float64",
         "type": "float"
        },
        {
         "name": "x",
         "rawType": "float64",
         "type": "float"
        },
        {
         "name": "y",
         "rawType": "float64",
         "type": "float"
        },
        {
         "name": "z",
         "rawType": "float64",
         "type": "float"
        },
        {
         "name": "layer_id",
         "rawType": "int64",
         "type": "integer"
        },
        {
         "name": "sensor0",
         "rawType": "float64",
         "type": "float"
        },
        {
         "name": "sensor1",
         "rawType": "float64",
         "type": "float"
        },
        {
         "name": "temp",
         "rawType": "float64",
         "type": "float"
        },
        {
         "name": "track_id",
         "rawType": "int64",
         "type": "integer"
        },
        {
         "name": "track_orient",
         "rawType": "int64",
         "type": "integer"
        },
        {
         "name": "pos_rel",
         "rawType": "float64",
         "type": "float"
        },
        {
         "name": "t_rel",
         "rawType": "float64",
         "type": "float"
        }
       ],
       "conversionMethod": "pd.DataFrame",
       "ref": "dbeaa465-07bd-46cd-a854-ae0596eac2a9",
       "rows": [
        [
         "0",
         "127300340.0",
         "26.035",
         "-66.386",
         "12.96",
         "324",
         "800.0",
         "795.0",
         "1594.7",
         "0",
         "131",
         "0.0",
         "0.0"
        ],
        [
         "1",
         "127300350.0",
         "26.043",
         "-66.392",
         "12.96",
         "324",
         "798.0",
         "794.0",
         "1593.3",
         "0",
         "131",
         "0.00821",
         "10.0"
        ],
        [
         "2",
         "127300360.0",
         "26.047",
         "-66.398",
         "12.96",
         "324",
         "814.0",
         "799.0",
         "1608.5",
         "0",
         "131",
         "0.01642",
         "20.0"
        ],
        [
         "3",
         "127300370.0",
         "26.049",
         "-66.404",
         "12.96",
         "324",
         "829.0",
         "806.0",
         "1619.4",
         "0",
         "131",
         "0.02463",
         "30.0"
        ],
        [
         "4",
         "127300380.0",
         "26.057",
         "-66.412",
         "12.96",
         "324",
         "833.0",
         "824.0",
         "1599.8",
         "0",
         "131",
         "0.03284",
         "40.0"
        ]
       ],
       "shape": {
        "columns": 12,
        "rows": 5
       }
      },
      "text/html": [
       "<div>\n",
       "<style scoped>\n",
       "    .dataframe tbody tr th:only-of-type {\n",
       "        vertical-align: middle;\n",
       "    }\n",
       "\n",
       "    .dataframe tbody tr th {\n",
       "        vertical-align: top;\n",
       "    }\n",
       "\n",
       "    .dataframe thead th {\n",
       "        text-align: right;\n",
       "    }\n",
       "</style>\n",
       "<table border=\"1\" class=\"dataframe\">\n",
       "  <thead>\n",
       "    <tr style=\"text-align: right;\">\n",
       "      <th></th>\n",
       "      <th>t</th>\n",
       "      <th>x</th>\n",
       "      <th>y</th>\n",
       "      <th>z</th>\n",
       "      <th>layer_id</th>\n",
       "      <th>sensor0</th>\n",
       "      <th>sensor1</th>\n",
       "      <th>temp</th>\n",
       "      <th>track_id</th>\n",
       "      <th>track_orient</th>\n",
       "      <th>pos_rel</th>\n",
       "      <th>t_rel</th>\n",
       "    </tr>\n",
       "  </thead>\n",
       "  <tbody>\n",
       "    <tr>\n",
       "      <th>0</th>\n",
       "      <td>127300340.0</td>\n",
       "      <td>26.035</td>\n",
       "      <td>-66.386</td>\n",
       "      <td>12.96</td>\n",
       "      <td>324</td>\n",
       "      <td>800.0</td>\n",
       "      <td>795.0</td>\n",
       "      <td>1594.7</td>\n",
       "      <td>0</td>\n",
       "      <td>131</td>\n",
       "      <td>0.00000</td>\n",
       "      <td>0.0</td>\n",
       "    </tr>\n",
       "    <tr>\n",
       "      <th>1</th>\n",
       "      <td>127300350.0</td>\n",
       "      <td>26.043</td>\n",
       "      <td>-66.392</td>\n",
       "      <td>12.96</td>\n",
       "      <td>324</td>\n",
       "      <td>798.0</td>\n",
       "      <td>794.0</td>\n",
       "      <td>1593.3</td>\n",
       "      <td>0</td>\n",
       "      <td>131</td>\n",
       "      <td>0.00821</td>\n",
       "      <td>10.0</td>\n",
       "    </tr>\n",
       "    <tr>\n",
       "      <th>2</th>\n",
       "      <td>127300360.0</td>\n",
       "      <td>26.047</td>\n",
       "      <td>-66.398</td>\n",
       "      <td>12.96</td>\n",
       "      <td>324</td>\n",
       "      <td>814.0</td>\n",
       "      <td>799.0</td>\n",
       "      <td>1608.5</td>\n",
       "      <td>0</td>\n",
       "      <td>131</td>\n",
       "      <td>0.01642</td>\n",
       "      <td>20.0</td>\n",
       "    </tr>\n",
       "    <tr>\n",
       "      <th>3</th>\n",
       "      <td>127300370.0</td>\n",
       "      <td>26.049</td>\n",
       "      <td>-66.404</td>\n",
       "      <td>12.96</td>\n",
       "      <td>324</td>\n",
       "      <td>829.0</td>\n",
       "      <td>806.0</td>\n",
       "      <td>1619.4</td>\n",
       "      <td>0</td>\n",
       "      <td>131</td>\n",
       "      <td>0.02463</td>\n",
       "      <td>30.0</td>\n",
       "    </tr>\n",
       "    <tr>\n",
       "      <th>4</th>\n",
       "      <td>127300380.0</td>\n",
       "      <td>26.057</td>\n",
       "      <td>-66.412</td>\n",
       "      <td>12.96</td>\n",
       "      <td>324</td>\n",
       "      <td>833.0</td>\n",
       "      <td>824.0</td>\n",
       "      <td>1599.8</td>\n",
       "      <td>0</td>\n",
       "      <td>131</td>\n",
       "      <td>0.03284</td>\n",
       "      <td>40.0</td>\n",
       "    </tr>\n",
       "  </tbody>\n",
       "</table>\n",
       "</div>"
      ],
      "text/plain": [
       "             t       x       y      z  layer_id  sensor0  sensor1    temp  \\\n",
       "0  127300340.0  26.035 -66.386  12.96       324    800.0    795.0  1594.7   \n",
       "1  127300350.0  26.043 -66.392  12.96       324    798.0    794.0  1593.3   \n",
       "2  127300360.0  26.047 -66.398  12.96       324    814.0    799.0  1608.5   \n",
       "3  127300370.0  26.049 -66.404  12.96       324    829.0    806.0  1619.4   \n",
       "4  127300380.0  26.057 -66.412  12.96       324    833.0    824.0  1599.8   \n",
       "\n",
       "   track_id  track_orient  pos_rel  t_rel  \n",
       "0         0           131  0.00000    0.0  \n",
       "1         0           131  0.00821   10.0  \n",
       "2         0           131  0.01642   20.0  \n",
       "3         0           131  0.02463   30.0  \n",
       "4         0           131  0.03284   40.0  "
      ]
     },
     "execution_count": 1,
     "metadata": {},
     "output_type": "execute_result"
    }
   ],
   "source": [
    "data = pd.read_csv('./data/layer_324.csv')\n",
    "\n",
    "data.head()"
   ]
  },
  {
   "cell_type": "code",
   "execution_count": 7,
   "id": "82a44630",
   "metadata": {},
   "outputs": [
    {
     "name": "stdout",
     "output_type": "stream",
     "text": [
      "t               0\n",
      "x               0\n",
      "y               0\n",
      "z               0\n",
      "layer_id        0\n",
      "sensor0         0\n",
      "sensor1         0\n",
      "temp            0\n",
      "track_id        0\n",
      "track_orient    0\n",
      "pos_rel         0\n",
      "t_rel           0\n",
      "dtype: int64\n"
     ]
    }
   ],
   "source": [
    "print(data.isnull().sum())"
   ]
  },
  {
   "cell_type": "code",
   "execution_count": 3,
   "id": "b4c01caf",
   "metadata": {},
   "outputs": [
    {
     "name": "stderr",
     "output_type": "stream",
     "text": [
      "c:\\Users\\Utente\\anaconda3\\envs\\qda_environment\\lib\\site-packages\\pandas\\plotting\\_matplotlib\\misc.py:100: UserWarning: Attempting to set identical left == right == 12.96 results in singular transformations; automatically expanding.\n",
      "  ax.set_xlim(boundaries_list[j])\n",
      "c:\\Users\\Utente\\anaconda3\\envs\\qda_environment\\lib\\site-packages\\pandas\\plotting\\_matplotlib\\misc.py:100: UserWarning: Attempting to set identical left == right == 324.0 results in singular transformations; automatically expanding.\n",
      "  ax.set_xlim(boundaries_list[j])\n",
      "c:\\Users\\Utente\\anaconda3\\envs\\qda_environment\\lib\\site-packages\\pandas\\plotting\\_matplotlib\\misc.py:100: UserWarning: Attempting to set identical left == right == 131.0 results in singular transformations; automatically expanding.\n",
      "  ax.set_xlim(boundaries_list[j])\n",
      "c:\\Users\\Utente\\anaconda3\\envs\\qda_environment\\lib\\site-packages\\pandas\\plotting\\_matplotlib\\misc.py:101: UserWarning: Attempting to set identical bottom == top == 12.96 results in singular transformations; automatically expanding.\n",
      "  ax.set_ylim(boundaries_list[i])\n",
      "c:\\Users\\Utente\\anaconda3\\envs\\qda_environment\\lib\\site-packages\\pandas\\plotting\\_matplotlib\\misc.py:91: UserWarning: Attempting to set identical left == right == 12.96 results in singular transformations; automatically expanding.\n",
      "  ax.set_xlim(boundaries_list[i])\n",
      "c:\\Users\\Utente\\anaconda3\\envs\\qda_environment\\lib\\site-packages\\pandas\\plotting\\_matplotlib\\misc.py:101: UserWarning: Attempting to set identical bottom == top == 324.0 results in singular transformations; automatically expanding.\n",
      "  ax.set_ylim(boundaries_list[i])\n",
      "c:\\Users\\Utente\\anaconda3\\envs\\qda_environment\\lib\\site-packages\\pandas\\plotting\\_matplotlib\\misc.py:91: UserWarning: Attempting to set identical left == right == 324.0 results in singular transformations; automatically expanding.\n",
      "  ax.set_xlim(boundaries_list[i])\n",
      "c:\\Users\\Utente\\anaconda3\\envs\\qda_environment\\lib\\site-packages\\pandas\\plotting\\_matplotlib\\misc.py:101: UserWarning: Attempting to set identical bottom == top == 131.0 results in singular transformations; automatically expanding.\n",
      "  ax.set_ylim(boundaries_list[i])\n",
      "c:\\Users\\Utente\\anaconda3\\envs\\qda_environment\\lib\\site-packages\\pandas\\plotting\\_matplotlib\\misc.py:91: UserWarning: Attempting to set identical left == right == 131.0 results in singular transformations; automatically expanding.\n",
      "  ax.set_xlim(boundaries_list[i])\n"
     ]
    },
    {
     "data": {
      "image/png": "[encoded data removed]",
      "text/plain": [
       "<Figure size 640x480 with 144 Axes>"
      ]
     },
     "metadata": {},
     "output_type": "display_data"
    }
   ],
   "source": [
    "# Create a correlation plot of the dataset\n",
    "pd.plotting.scatter_matrix(data, alpha = 1)\n",
    "plt.show()"
   ]
  },
  {
   "cell_type": "code",
   "execution_count": 5,
   "id": "fbc95e3b",
   "metadata": {},
   "outputs": [
    {
     "data": {
      "application/vnd.microsoft.datawrangler.viewer.v0+json": {
       "columns": [
        {
         "name": "index",
         "rawType": "object",
         "type": "string"
        },
        {
         "name": "t",
         "rawType": "float64",
         "type": "float"
        },
        {
         "name": "x",
         "rawType": "float64",
         "type": "float"
        },
        {
         "name": "y",
         "rawType": "float64",
         "type": "float"
        },
        {
         "name": "z",
         "rawType": "float64",
         "type": "float"
        },
        {
         "name": "layer_id",
         "rawType": "float64",
         "type": "float"
        },
        {
         "name": "sensor0",
         "rawType": "float64",
         "type": "float"
        },
        {
         "name": "sensor1",
         "rawType": "float64",
         "type": "float"
        },
        {
         "name": "temp",
         "rawType": "float64",
         "type": "float"
        },
        {
         "name": "track_id",
         "rawType": "float64",
         "type": "float"
        },
        {
         "name": "track_orient",
         "rawType": "float64",
         "type": "float"
        },
        {
         "name": "pos_rel",
         "rawType": "float64",
         "type": "float"
        },
        {
         "name": "t_rel",
         "rawType": "float64",
         "type": "float"
        }
       ],
       "conversionMethod": "pd.DataFrame",
       "ref": "d356db4f-7fcc-4b49-a5b5-4e26d5004b19",
       "rows": [
        [
         "count",
         "180538.0",
         "180538.0",
         "180538.0",
         "180538.0",
         "0.0",
         "180538.0",
         "180538.0",
         "180538.0",
         "180538.0",
         "0.0",
         "180538.0",
         "180538.0"
        ],
        [
         "mean",
         "5.993914162537675e-15",
         "-7.150803598938364e-14",
         "4.1284616456078485e-14",
         "0.9999972304985357",
         null,
         "-3.580020892516001e-14",
         "4.850863679691622e-14",
         "9.186937264586342e-13",
         "-3.813786615927977e-14",
         null,
         "4.227134594064051e-15",
         "7.826929039664506e-15"
        ],
        [
         "std",
         "0.9999999999999963",
         "1.0000000000000193",
         "1.0000000000000182",
         "2.4206259645232414e-12",
         null,
         "1.0000000000000808",
         "0.9999999999999297",
         "0.999999999999938",
         "1.0000000000006015",
         null,
         "0.999999999999994",
         "0.9999999999999903"
        ],
        [
         "min",
         "-1.8095166946099692",
         "-1.7460629822973368",
         "-1.7504398885498864",
         "0.9999972304961151",
         null,
         "-4.174127605377658",
         "-4.003539622741631",
         "-4.228979807263832",
         "-2.4122737238088847",
         null,
         "-1.4217921786886794",
         "-1.4217438507977709"
        ],
        [
         "25%",
         "-0.8511270592547655",
         "-0.8661525877271664",
         "-0.8659297331532839",
         "0.9999972304961151",
         null,
         "-0.6849014515416589",
         "-0.6993389447227627",
         "-0.681448594111822",
         "-0.7119468960928464",
         null,
         "-0.8482571367856804",
         "-0.8479403901618177"
        ],
        [
         "50%",
         "0.004357012644520047",
         "-8.71823501551806e-06",
         "-0.00011046205472151104",
         "0.9999972304961151",
         null,
         "-0.08574140492335608",
         "-0.0749230685617167",
         "-0.006018122997122025",
         "0.008530573278356152",
         null,
         "-0.16815400050260132",
         "-0.1674296193023363"
        ],
        [
         "75%",
         "0.8536756811258024",
         "0.8658483486513419",
         "0.8662839131760871",
         "0.9999972304961151",
         null,
         "0.6191527675687649",
         "0.62754479211946",
         "0.6694123481175918",
         "0.7290080426495588",
         null,
         "0.7153618210279358",
         "0.7144156991487076"
        ],
        [
         "max",
         "1.796488656592068",
         "1.761532886540078",
         "1.7545322454323016",
         "0.9999972304961151",
         null,
         "5.271454306016763",
         "4.660230658992882",
         "5.257471584338196",
         "2.429334870365597",
         null,
         "2.578871425916431",
         "2.5787736098465768"
        ]
       ],
       "shape": {
        "columns": 12,
        "rows": 8
       }
      },
      "text/html": [
       "<div>\n",
       "<style scoped>\n",
       "    .dataframe tbody tr th:only-of-type {\n",
       "        vertical-align: middle;\n",
       "    }\n",
       "\n",
       "    .dataframe tbody tr th {\n",
       "        vertical-align: top;\n",
       "    }\n",
       "\n",
       "    .dataframe thead th {\n",
       "        text-align: right;\n",
       "    }\n",
       "</style>\n",
       "<table border=\"1\" class=\"dataframe\">\n",
       "  <thead>\n",
       "    <tr style=\"text-align: right;\">\n",
       "      <th></th>\n",
       "      <th>t</th>\n",
       "      <th>x</th>\n",
       "      <th>y</th>\n",
       "      <th>z</th>\n",
       "      <th>layer_id</th>\n",
       "      <th>sensor0</th>\n",
       "      <th>sensor1</th>\n",
       "      <th>temp</th>\n",
       "      <th>track_id</th>\n",
       "      <th>track_orient</th>\n",
       "      <th>pos_rel</th>\n",
       "      <th>t_rel</th>\n",
       "    </tr>\n",
       "  </thead>\n",
       "  <tbody>\n",
       "    <tr>\n",
       "      <th>count</th>\n",
       "      <td>1.805380e+05</td>\n",
       "      <td>1.805380e+05</td>\n",
       "      <td>1.805380e+05</td>\n",
       "      <td>1.805380e+05</td>\n",
       "      <td>0.0</td>\n",
       "      <td>1.805380e+05</td>\n",
       "      <td>1.805380e+05</td>\n",
       "      <td>1.805380e+05</td>\n",
       "      <td>1.805380e+05</td>\n",
       "      <td>0.0</td>\n",
       "      <td>1.805380e+05</td>\n",
       "      <td>1.805380e+05</td>\n",
       "    </tr>\n",
       "    <tr>\n",
       "      <th>mean</th>\n",
       "      <td>5.993914e-15</td>\n",
       "      <td>-7.150804e-14</td>\n",
       "      <td>4.128462e-14</td>\n",
       "      <td>9.999972e-01</td>\n",
       "      <td>NaN</td>\n",
       "      <td>-3.580021e-14</td>\n",
       "      <td>4.850864e-14</td>\n",
       "      <td>9.186937e-13</td>\n",
       "      <td>-3.813787e-14</td>\n",
       "      <td>NaN</td>\n",
       "      <td>4.227135e-15</td>\n",
       "      <td>7.826929e-15</td>\n",
       "    </tr>\n",
       "    <tr>\n",
       "      <th>std</th>\n",
       "      <td>1.000000e+00</td>\n",
       "      <td>1.000000e+00</td>\n",
       "      <td>1.000000e+00</td>\n",
       "      <td>2.420626e-12</td>\n",
       "      <td>NaN</td>\n",
       "      <td>1.000000e+00</td>\n",
       "      <td>1.000000e+00</td>\n",
       "      <td>1.000000e+00</td>\n",
       "      <td>1.000000e+00</td>\n",
       "      <td>NaN</td>\n",
       "      <td>1.000000e+00</td>\n",
       "      <td>1.000000e+00</td>\n",
       "    </tr>\n",
       "    <tr>\n",
       "      <th>min</th>\n",
       "      <td>-1.809517e+00</td>\n",
       "      <td>-1.746063e+00</td>\n",
       "      <td>-1.750440e+00</td>\n",
       "      <td>9.999972e-01</td>\n",
       "      <td>NaN</td>\n",
       "      <td>-4.174128e+00</td>\n",
       "      <td>-4.003540e+00</td>\n",
       "      <td>-4.228980e+00</td>\n",
       "      <td>-2.412274e+00</td>\n",
       "      <td>NaN</td>\n",
       "      <td>-1.421792e+00</td>\n",
       "      <td>-1.421744e+00</td>\n",
       "    </tr>\n",
       "    <tr>\n",
       "      <th>25%</th>\n",
       "      <td>-8.511271e-01</td>\n",
       "      <td>-8.661526e-01</td>\n",
       "      <td>-8.659297e-01</td>\n",
       "      <td>9.999972e-01</td>\n",
       "      <td>NaN</td>\n",
       "      <td>-6.849015e-01</td>\n",
       "      <td>-6.993389e-01</td>\n",
       "      <td>-6.814486e-01</td>\n",
       "      <td>-7.119469e-01</td>\n",
       "      <td>NaN</td>\n",
       "      <td>-8.482571e-01</td>\n",
       "      <td>-8.479404e-01</td>\n",
       "    </tr>\n",
       "    <tr>\n",
       "      <th>50%</th>\n",
       "      <td>4.357013e-03</td>\n",
       "      <td>-8.718235e-06</td>\n",
       "      <td>-1.104621e-04</td>\n",
       "      <td>9.999972e-01</td>\n",
       "      <td>NaN</td>\n",
       "      <td>-8.574140e-02</td>\n",
       "      <td>-7.492307e-02</td>\n",
       "      <td>-6.018123e-03</td>\n",
       "      <td>8.530573e-03</td>\n",
       "      <td>NaN</td>\n",
       "      <td>-1.681540e-01</td>\n",
       "      <td>-1.674296e-01</td>\n",
       "    </tr>\n",
       "    <tr>\n",
       "      <th>75%</th>\n",
       "      <td>8.536757e-01</td>\n",
       "      <td>8.658483e-01</td>\n",
       "      <td>8.662839e-01</td>\n",
       "      <td>9.999972e-01</td>\n",
       "      <td>NaN</td>\n",
       "      <td>6.191528e-01</td>\n",
       "      <td>6.275448e-01</td>\n",
       "      <td>6.694123e-01</td>\n",
       "      <td>7.290080e-01</td>\n",
       "      <td>NaN</td>\n",
       "      <td>7.153618e-01</td>\n",
       "      <td>7.144157e-01</td>\n",
       "    </tr>\n",
       "    <tr>\n",
       "      <th>max</th>\n",
       "      <td>1.796489e+00</td>\n",
       "      <td>1.761533e+00</td>\n",
       "      <td>1.754532e+00</td>\n",
       "      <td>9.999972e-01</td>\n",
       "      <td>NaN</td>\n",
       "      <td>5.271454e+00</td>\n",
       "      <td>4.660231e+00</td>\n",
       "      <td>5.257472e+00</td>\n",
       "      <td>2.429335e+00</td>\n",
       "      <td>NaN</td>\n",
       "      <td>2.578871e+00</td>\n",
       "      <td>2.578774e+00</td>\n",
       "    </tr>\n",
       "  </tbody>\n",
       "</table>\n",
       "</div>"
      ],
      "text/plain": [
       "                  t             x             y             z  layer_id  \\\n",
       "count  1.805380e+05  1.805380e+05  1.805380e+05  1.805380e+05       0.0   \n",
       "mean   5.993914e-15 -7.150804e-14  4.128462e-14  9.999972e-01       NaN   \n",
       "std    1.000000e+00  1.000000e+00  1.000000e+00  2.420626e-12       NaN   \n",
       "min   -1.809517e+00 -1.746063e+00 -1.750440e+00  9.999972e-01       NaN   \n",
       "25%   -8.511271e-01 -8.661526e-01 -8.659297e-01  9.999972e-01       NaN   \n",
       "50%    4.357013e-03 -8.718235e-06 -1.104621e-04  9.999972e-01       NaN   \n",
       "75%    8.536757e-01  8.658483e-01  8.662839e-01  9.999972e-01       NaN   \n",
       "max    1.796489e+00  1.761533e+00  1.754532e+00  9.999972e-01       NaN   \n",
       "\n",
       "            sensor0       sensor1          temp      track_id  track_orient  \\\n",
       "count  1.805380e+05  1.805380e+05  1.805380e+05  1.805380e+05           0.0   \n",
       "mean  -3.580021e-14  4.850864e-14  9.186937e-13 -3.813787e-14           NaN   \n",
       "std    1.000000e+00  1.000000e+00  1.000000e+00  1.000000e+00           NaN   \n",
       "min   -4.174128e+00 -4.003540e+00 -4.228980e+00 -2.412274e+00           NaN   \n",
       "25%   -6.849015e-01 -6.993389e-01 -6.814486e-01 -7.119469e-01           NaN   \n",
       "50%   -8.574140e-02 -7.492307e-02 -6.018123e-03  8.530573e-03           NaN   \n",
       "75%    6.191528e-01  6.275448e-01  6.694123e-01  7.290080e-01           NaN   \n",
       "max    5.271454e+00  4.660231e+00  5.257472e+00  2.429335e+00           NaN   \n",
       "\n",
       "            pos_rel         t_rel  \n",
       "count  1.805380e+05  1.805380e+05  \n",
       "mean   4.227135e-15  7.826929e-15  \n",
       "std    1.000000e+00  1.000000e+00  \n",
       "min   -1.421792e+00 -1.421744e+00  \n",
       "25%   -8.482571e-01 -8.479404e-01  \n",
       "50%   -1.681540e-01 -1.674296e-01  \n",
       "75%    7.153618e-01  7.144157e-01  \n",
       "max    2.578871e+00  2.578774e+00  "
      ]
     },
     "execution_count": 5,
     "metadata": {},
     "output_type": "execute_result"
    }
   ],
   "source": [
    "data_std = (data - data.mean()) / data.std()\n",
    "data_std.describe()"
   ]
  },
  {
   "cell_type": "code",
   "execution_count": 11,
   "id": "210bf0b0",
   "metadata": {},
   "outputs": [],
   "source": [
    "data_std = data.drop(columns=['layer_id', 'track_orient'])"
   ]
  },
  {
   "cell_type": "code",
   "execution_count": null,
   "id": "920c9458",
   "metadata": {},
   "outputs": [],
   "source": [
    "data_std"
   ]
  },
  {
   "cell_type": "code",
   "execution_count": 12,
   "id": "a903ff30",
   "metadata": {},
   "outputs": [
    {
     "name": "stdout",
     "output_type": "stream",
     "text": [
      "Eigenvalues \n",
      " [3.39051682e+11 2.46684677e+07 1.69831871e+03 2.11168760e+02\n",
      " 1.92113681e+01 1.19068003e+01 1.95478846e-01 2.78860130e-04\n",
      " 9.56895301e-06 2.65004745e-30]\n",
      "\n",
      "Eigenvectors \n",
      " [[-9.99999995e-01 -4.52228757e-06 -3.83996172e-06  1.57622753e-35\n",
      "  -1.65346781e-05 -2.70894953e-05  1.07161037e-05 -5.91178000e-05\n",
      "  -7.21310207e-08 -6.61561605e-05]\n",
      " [-6.60436413e-05 -6.16186962e-06 -1.08841809e-06  9.58070168e-36\n",
      "  -1.75897686e-03 -2.60945844e-03  8.59589402e-04 -5.39145458e-05\n",
      "   8.03100259e-04  9.99994353e-01]\n",
      " [ 3.35970995e-05  5.19752719e-04 -1.25937763e-03  1.04524700e-31\n",
      "  -5.82040555e-01 -7.87533711e-01  2.02456960e-01 -4.26448722e-03\n",
      "   4.71655758e-06 -3.25311024e-03]\n",
      " [ 6.50992599e-06 -1.18106154e-02  9.65717371e-03  1.80411242e-16\n",
      "   5.35655702e-01 -1.84041471e-01  8.23592956e-01 -2.57591644e-02\n",
      "   2.89438226e-05 -2.47469629e-04]\n",
      " [-5.84181100e-05 -2.66049184e-02  1.80981096e-01  5.55111512e-17\n",
      "   8.88926182e-03 -6.81801445e-03  2.09312033e-02  9.82839688e-01\n",
      "  -7.37671359e-04  3.34635973e-05]\n",
      " [-9.12152448e-06  6.59500714e-01 -7.35596665e-01 -5.55111512e-17\n",
      "   1.96563066e-02 -1.18319523e-02  7.43640945e-03  1.52887294e-01\n",
      "  -4.04740018e-04  9.13820758e-06]\n",
      " [-1.88541464e-07  9.94325054e-03 -1.13812008e-02  5.42101086e-17\n",
      "  -6.11406719e-01  5.87972877e-01  5.29339568e-01  6.95614028e-04\n",
      "  -6.36062848e-03  9.02047442e-06]\n",
      " [-6.74207967e-08  6.80848359e-03  5.40902397e-03  2.53811729e-16\n",
      "  -3.88589958e-03  3.74124822e-03  3.35995985e-03 -7.16435018e-05\n",
      "   9.99941674e-01 -8.02974740e-04]\n",
      " [-6.73935720e-10 -7.51043276e-01 -6.52602293e-01 -9.09014583e-16\n",
      "  -1.05278718e-05  1.91493658e-05  1.56570309e-05  9.98469157e-02\n",
      "   8.65089453e-03 -6.88451577e-06]\n",
      " [-3.06051662e-22  8.99730447e-16  7.17524594e-16 -1.00000000e+00\n",
      "  -7.53089932e-17 -1.33061234e-16 -2.65989553e-19 -2.77757124e-17\n",
      "   1.03486529e-16 -5.52623445e-19]]\n",
      "\n",
      "Explained variance ratio \n",
      " [9.99927242e-01 7.27519556e-05 5.00866161e-09 6.22776429e-10\n",
      " 5.66579415e-11 3.51153958e-11 5.76503918e-13 8.22411022e-16\n",
      " 2.82206439e-17 7.81548885e-42]\n",
      "\n",
      "Cumulative explained variance ratio \n",
      " [0.99992724 0.99999999 1.         1.         1.         1.\n",
      " 1.         1.         1.         1.        ]\n"
     ]
    }
   ],
   "source": [
    "# import the libraries for PCA\n",
    "from sklearn.decomposition import PCA\n",
    "\n",
    "# Create the PCA object\n",
    "pca_std = PCA()\n",
    "# Fit the PCA object to the data\n",
    "pca_std.fit(data_std)\n",
    "# Print the eigenvalues\n",
    "print(\"Eigenvalues \\n\", pca_std.explained_variance_)\n",
    "# Print the eigenvectors\n",
    "print(\"\\nEigenvectors \\n\", pca_std.components_)\n",
    "# Print the explained variance ratio\n",
    "print(\"\\nExplained variance ratio \\n\", pca_std.explained_variance_ratio_)\n",
    "# Print the cumulative explained variance ratio\n",
    "print(\"\\nCumulative explained variance ratio \\n\", np.cumsum(pca_std.explained_variance_ratio_))\n"
   ]
  },
  {
   "cell_type": "code",
   "execution_count": 13,
   "id": "6f0aafe7",
   "metadata": {},
   "outputs": [
    {
     "data": {
      "image/png": "[encoded data removed]",
      "text/plain": [
       "<Figure size 640x480 with 1 Axes>"
      ]
     },
     "metadata": {},
     "output_type": "display_data"
    }
   ],
   "source": [
    "# Plot the eigenvalues (scree plot)\n",
    "plt.plot(pca_std.explained_variance_, 'o-')\n",
    "plt.xlabel('Component number')\n",
    "plt.ylabel('Eigenvalue')\n",
    "plt.title('Scree plot')\n",
    "plt.show()"
   ]
  }
 ],
 "metadata": {
  "kernelspec": {
   "display_name": "qda_environment",
   "language": "python",
   "name": "python3"
  },
  "language_info": {
   "codemirror_mode": {
    "name": "ipython",
    "version": 3
   },
   "file_extension": ".py",
   "mimetype": "text/x-python",
   "name": "python",
   "nbconvert_exporter": "python",
   "pygments_lexer": "ipython3",
   "version": "3.9.15"
  }
 },
 "nbformat": 4,
 "nbformat_minor": 5
}
