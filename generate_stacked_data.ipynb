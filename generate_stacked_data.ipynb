{
 "cells": [
  {
   "cell_type": "code",
   "execution_count": null,
   "id": "d92d730b",
   "metadata": {},
   "outputs": [],
   "source": [
    "import pandas as pd\n",
    "import glob\n",
    "import os\n",
    "\n",
    "\n",
    "def read_all_csv_files(folder_path):\n",
    "    # Get all CSV file paths in the folder\n",
    "    csv_files = glob.glob(os.path.join(folder_path, \"*.csv\"))\n",
    "    \n",
    "    # Read each CSV file and store them in a list of DataFrames\n",
    "    dataframes = [pd.read_csv(file) for file in csv_files]\n",
    "    return dataframes\n",
    "    \n",
    "\n",
    "folder_path = \"./data\"\n",
    "all_data = read_all_csv_files(folder_path)"
   ]
  },
  {
   "cell_type": "code",
   "execution_count": null,
   "id": "47e0166d",
   "metadata": {},
   "outputs": [],
   "source": [
    "stacked_data = pd.concat(all_data, ignore_index=True)"
   ]
  }
 ],
 "metadata": {
  "language_info": {
   "name": "python"
  }
 },
 "nbformat": 4,
 "nbformat_minor": 5
}
